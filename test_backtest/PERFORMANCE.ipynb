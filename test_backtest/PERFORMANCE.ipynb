{
 "cells": [
  {
   "cell_type": "code",
   "execution_count": 2,
   "metadata": {},
   "outputs": [],
   "source": [
    "import QUANTAXIS as QA"
   ]
  },
  {
   "cell_type": "code",
   "execution_count": 4,
   "metadata": {},
   "outputs": [],
   "source": [
    "AC=QA.QA_Account().from_message(QA.QA_fetch_account()[-1])"
   ]
  },
  {
   "cell_type": "code",
   "execution_count": 6,
   "metadata": {},
   "outputs": [],
   "source": [
    "pr=QA.QA_Performance(AC)"
   ]
  },
  {
   "cell_type": "code",
   "execution_count": 8,
   "metadata": {},
   "outputs": [
    {
     "data": {
      "text/html": [
       "<div>\n",
       "<style scoped>\n",
       "    .dataframe tbody tr th:only-of-type {\n",
       "        vertical-align: middle;\n",
       "    }\n",
       "\n",
       "    .dataframe tbody tr th {\n",
       "        vertical-align: top;\n",
       "    }\n",
       "\n",
       "    .dataframe thead th {\n",
       "        text-align: right;\n",
       "    }\n",
       "</style>\n",
       "<table border=\"1\" class=\"dataframe\">\n",
       "  <thead>\n",
       "    <tr style=\"text-align: right;\">\n",
       "      <th></th>\n",
       "      <th>sell_date</th>\n",
       "      <th>buy_date</th>\n",
       "      <th>amount</th>\n",
       "      <th>sell_price</th>\n",
       "      <th>buy_price</th>\n",
       "      <th>pnl_ratio</th>\n",
       "      <th>pnl_money</th>\n",
       "    </tr>\n",
       "    <tr>\n",
       "      <th>code</th>\n",
       "      <th></th>\n",
       "      <th></th>\n",
       "      <th></th>\n",
       "      <th></th>\n",
       "      <th></th>\n",
       "      <th></th>\n",
       "      <th></th>\n",
       "    </tr>\n",
       "  </thead>\n",
       "  <tbody>\n",
       "    <tr>\n",
       "      <th>000001</th>\n",
       "      <td>2018-01-03 09:30:00</td>\n",
       "      <td>2018-01-02 15:00:00</td>\n",
       "      <td>1000.0</td>\n",
       "      <td>13.53</td>\n",
       "      <td>13.70</td>\n",
       "      <td>-0.012409</td>\n",
       "      <td>-12.408759</td>\n",
       "    </tr>\n",
       "    <tr>\n",
       "      <th>000001</th>\n",
       "      <td>2018-01-29 09:30:00</td>\n",
       "      <td>2018-01-12 15:00:00</td>\n",
       "      <td>1000.0</td>\n",
       "      <td>13.93</td>\n",
       "      <td>13.55</td>\n",
       "      <td>0.028044</td>\n",
       "      <td>28.044280</td>\n",
       "    </tr>\n",
       "    <tr>\n",
       "      <th>000004</th>\n",
       "      <td>2018-01-31 09:30:00</td>\n",
       "      <td>2018-01-24 15:00:00</td>\n",
       "      <td>1000.0</td>\n",
       "      <td>20.73</td>\n",
       "      <td>22.08</td>\n",
       "      <td>-0.061141</td>\n",
       "      <td>-61.141304</td>\n",
       "    </tr>\n",
       "    <tr>\n",
       "      <th>600000</th>\n",
       "      <td>2018-02-02 09:30:00</td>\n",
       "      <td>2018-01-04 15:00:00</td>\n",
       "      <td>1000.0</td>\n",
       "      <td>13.10</td>\n",
       "      <td>12.66</td>\n",
       "      <td>0.034755</td>\n",
       "      <td>34.755134</td>\n",
       "    </tr>\n",
       "    <tr>\n",
       "      <th>600000</th>\n",
       "      <td>2018-02-08 09:30:00</td>\n",
       "      <td>2018-02-05 15:00:00</td>\n",
       "      <td>1000.0</td>\n",
       "      <td>13.18</td>\n",
       "      <td>13.49</td>\n",
       "      <td>-0.022980</td>\n",
       "      <td>-22.979985</td>\n",
       "    </tr>\n",
       "    <tr>\n",
       "      <th>000002</th>\n",
       "      <td>2018-03-19 09:30:00</td>\n",
       "      <td>2018-03-08 15:00:00</td>\n",
       "      <td>1000.0</td>\n",
       "      <td>32.05</td>\n",
       "      <td>33.64</td>\n",
       "      <td>-0.047265</td>\n",
       "      <td>-47.265161</td>\n",
       "    </tr>\n",
       "    <tr>\n",
       "      <th>000001</th>\n",
       "      <td>2018-03-26 09:30:00</td>\n",
       "      <td>2018-03-08 15:00:00</td>\n",
       "      <td>1000.0</td>\n",
       "      <td>11.03</td>\n",
       "      <td>12.11</td>\n",
       "      <td>-0.089182</td>\n",
       "      <td>-89.182494</td>\n",
       "    </tr>\n",
       "    <tr>\n",
       "      <th>000004</th>\n",
       "      <td>2018-04-02 09:30:00</td>\n",
       "      <td>2018-02-13 15:00:00</td>\n",
       "      <td>1000.0</td>\n",
       "      <td>22.70</td>\n",
       "      <td>20.10</td>\n",
       "      <td>0.129353</td>\n",
       "      <td>129.353234</td>\n",
       "    </tr>\n",
       "    <tr>\n",
       "      <th>000002</th>\n",
       "      <td>2018-04-16 09:30:00</td>\n",
       "      <td>2018-03-29 15:00:00</td>\n",
       "      <td>1000.0</td>\n",
       "      <td>30.39</td>\n",
       "      <td>34.16</td>\n",
       "      <td>-0.110363</td>\n",
       "      <td>-110.362998</td>\n",
       "    </tr>\n",
       "  </tbody>\n",
       "</table>\n",
       "</div>"
      ],
      "text/plain": [
       "                  sell_date             buy_date  amount  sell_price  \\\n",
       "code                                                                   \n",
       "000001  2018-01-03 09:30:00  2018-01-02 15:00:00  1000.0       13.53   \n",
       "000001  2018-01-29 09:30:00  2018-01-12 15:00:00  1000.0       13.93   \n",
       "000004  2018-01-31 09:30:00  2018-01-24 15:00:00  1000.0       20.73   \n",
       "600000  2018-02-02 09:30:00  2018-01-04 15:00:00  1000.0       13.10   \n",
       "600000  2018-02-08 09:30:00  2018-02-05 15:00:00  1000.0       13.18   \n",
       "000002  2018-03-19 09:30:00  2018-03-08 15:00:00  1000.0       32.05   \n",
       "000001  2018-03-26 09:30:00  2018-03-08 15:00:00  1000.0       11.03   \n",
       "000004  2018-04-02 09:30:00  2018-02-13 15:00:00  1000.0       22.70   \n",
       "000002  2018-04-16 09:30:00  2018-03-29 15:00:00  1000.0       30.39   \n",
       "\n",
       "        buy_price  pnl_ratio   pnl_money  \n",
       "code                                      \n",
       "000001      13.70  -0.012409  -12.408759  \n",
       "000001      13.55   0.028044   28.044280  \n",
       "000004      22.08  -0.061141  -61.141304  \n",
       "600000      12.66   0.034755   34.755134  \n",
       "600000      13.49  -0.022980  -22.979985  \n",
       "000002      33.64  -0.047265  -47.265161  \n",
       "000001      12.11  -0.089182  -89.182494  \n",
       "000004      20.10   0.129353  129.353234  \n",
       "000002      34.16  -0.110363 -110.362998  "
      ]
     },
     "execution_count": 8,
     "metadata": {},
     "output_type": "execute_result"
    }
   ],
   "source": [
    "pr.pnl_fifo"
   ]
  },
  {
   "cell_type": "code",
   "execution_count": 11,
   "metadata": {},
   "outputs": [
    {
     "data": {
      "image/png": "[encoded data removed]",
      "text/plain": [
       "<Figure size 432x288 with 1 Axes>"
      ]
     },
     "metadata": {},
     "output_type": "display_data"
    }
   ],
   "source": [
    "pr.plot_pnlmoney(pr.pnl_fifo)"
   ]
  },
  {
   "cell_type": "code",
   "execution_count": 12,
   "metadata": {},
   "outputs": [
    {
     "data": {
      "image/png": "[encoded data removed]",
      "text/plain": [
       "<Figure size 432x288 with 1 Axes>"
      ]
     },
     "metadata": {},
     "output_type": "display_data"
    }
   ],
   "source": [
    "pr.plot_pnlratio(pr.pnl_fifo)"
   ]
  }
 ],
 "metadata": {
  "kernelspec": {
   "display_name": "Python 3",
   "language": "python",
   "name": "python3"
  },
  "language_info": {
   "codemirror_mode": {
    "name": "ipython",
    "version": 3
   },
   "file_extension": ".py",
   "mimetype": "text/x-python",
   "name": "python",
   "nbconvert_exporter": "python",
   "pygments_lexer": "ipython3",
   "version": "3.6.5"
  }
 },
 "nbformat": 4,
 "nbformat_minor": 2
}
